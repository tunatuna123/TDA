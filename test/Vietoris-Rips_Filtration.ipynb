{
 "cells": [
  {
   "cell_type": "code",
   "execution_count": 1,
   "metadata": {},
   "outputs": [
    {
     "data": {
      "text/plain": [
       "[<matplotlib.lines.Line2D at 0x129b92610>]"
      ]
     },
     "execution_count": 1,
     "metadata": {},
     "output_type": "execute_result"
    },
    {
     "data": {
      "image/png": "[encoded data removed]",
      "text/plain": [
       "<Figure size 640x480 with 1 Axes>"
      ]
     },
     "metadata": {},
     "output_type": "display_data"
    }
   ],
   "source": [
    "## Generate a point-cloud with 8 points.\n",
    "import numpy as np\n",
    "import matplotlib.pyplot as plt\n",
    "\n",
    "point_cloud = np.array([[-2.0,8.0],\n",
    "                        [6.0,8.0],\n",
    "                        [-2.0,2.0],\n",
    "                        [7.0,3.0],\n",
    "                        [27.0, 3.0],\n",
    "                        [20.0,6.0],\n",
    "                        [20.0,0.0],\n",
    "                        [9.0,-7.0]\n",
    "                        ])\n",
    "\n",
    "plt.plot(point_cloud[:,0], point_cloud[:,1], '.')"
   ]
  },
  {
   "cell_type": "code",
   "execution_count": 2,
   "metadata": {},
   "outputs": [
    {
     "data": {
      "application/vnd.plotly.v1+json": {
       "config": {
        "plotlyServerURL": "https://plot.ly"
       },
       "data": [
        {
         "marker": {
          "color": [
           0,
           1,
           2,
           3,
           4,
           5,
           6,
           7
          ],
          "colorscale": [
           [
            0,
            "#440154"
           ],
           [
            0.1111111111111111,
            "#482878"
           ],
           [
            0.2222222222222222,
            "#3e4989"
           ],
           [
            0.3333333333333333,
            "#31688e"
           ],
           [
            0.4444444444444444,
            "#26828e"
           ],
           [
            0.5555555555555556,
            "#1f9e89"
           ],
           [
            0.6666666666666666,
            "#35b779"
           ],
           [
            0.7777777777777778,
            "#6ece58"
           ],
           [
            0.8888888888888888,
            "#b5de2b"
           ],
           [
            1,
            "#fde725"
           ]
          ],
          "opacity": 0.8,
          "size": 4
         },
         "mode": "markers",
         "type": "scatter",
         "x": [
          -2,
          6,
          -2,
          7,
          27,
          20,
          20,
          9
         ],
         "y": [
          8,
          8,
          2,
          3,
          3,
          6,
          0,
          -7
         ]
        }
       ],
       "layout": {
        "height": 600,
        "plot_bgcolor": "white",
        "template": {
         "data": {
          "bar": [
           {
            "error_x": {
             "color": "#2a3f5f"
            },
            "error_y": {
             "color": "#2a3f5f"
            },
            "marker": {
             "line": {
              "color": "#E5ECF6",
              "width": 0.5
             },
             "pattern": {
              "fillmode": "overlay",
              "size": 10,
              "solidity": 0.2
             }
            },
            "type": "bar"
           }
          ],
          "barpolar": [
           {
            "marker": {
             "line": {
              "color": "#E5ECF6",
              "width": 0.5
             },
             "pattern": {
              "fillmode": "overlay",
              "size": 10,
              "solidity": 0.2
             }
            },
            "type": "barpolar"
           }
          ],
          "carpet": [
           {
            "aaxis": {
             "endlinecolor": "#2a3f5f",
             "gridcolor": "white",
             "linecolor": "white",
             "minorgridcolor": "white",
             "startlinecolor": "#2a3f5f"
            },
            "baxis": {
             "endlinecolor": "#2a3f5f",
             "gridcolor": "white",
             "linecolor": "white",
             "minorgridcolor": "white",
             "startlinecolor": "#2a3f5f"
            },
            "type": "carpet"
           }
          ],
          "choropleth": [
           {
            "colorbar": {
             "outlinewidth": 0,
             "ticks": ""
            },
            "type": "choropleth"
           }
          ],
          "contour": [
           {
            "colorbar": {
             "outlinewidth": 0,
             "ticks": ""
            },
            "colorscale": [
             [
              0,
              "#0d0887"
             ],
             [
              0.1111111111111111,
              "#46039f"
             ],
             [
              0.2222222222222222,
              "#7201a8"
             ],
             [
              0.3333333333333333,
              "#9c179e"
             ],
             [
              0.4444444444444444,
              "#bd3786"
             ],
             [
              0.5555555555555556,
              "#d8576b"
             ],
             [
              0.6666666666666666,
              "#ed7953"
             ],
             [
              0.7777777777777778,
              "#fb9f3a"
             ],
             [
              0.8888888888888888,
              "#fdca26"
             ],
             [
              1,
              "#f0f921"
             ]
            ],
            "type": "contour"
           }
          ],
          "contourcarpet": [
           {
            "colorbar": {
             "outlinewidth": 0,
             "ticks": ""
            },
            "type": "contourcarpet"
           }
          ],
          "heatmap": [
           {
            "colorbar": {
             "outlinewidth": 0,
             "ticks": ""
            },
            "colorscale": [
             [
              0,
              "#0d0887"
             ],
             [
              0.1111111111111111,
              "#46039f"
             ],
             [
              0.2222222222222222,
              "#7201a8"
             ],
             [
              0.3333333333333333,
              "#9c179e"
             ],
             [
              0.4444444444444444,
              "#bd3786"
             ],
             [
              0.5555555555555556,
              "#d8576b"
             ],
             [
              0.6666666666666666,
              "#ed7953"
             ],
             [
              0.7777777777777778,
              "#fb9f3a"
             ],
             [
              0.8888888888888888,
              "#fdca26"
             ],
             [
              1,
              "#f0f921"
             ]
            ],
            "type": "heatmap"
           }
          ],
          "heatmapgl": [
           {
            "colorbar": {
             "outlinewidth": 0,
             "ticks": ""
            },
            "colorscale": [
             [
              0,
              "#0d0887"
             ],
             [
              0.1111111111111111,
              "#46039f"
             ],
             [
              0.2222222222222222,
              "#7201a8"
             ],
             [
              0.3333333333333333,
              "#9c179e"
             ],
             [
              0.4444444444444444,
              "#bd3786"
             ],
             [
              0.5555555555555556,
              "#d8576b"
             ],
             [
              0.6666666666666666,
              "#ed7953"
             ],
             [
              0.7777777777777778,
              "#fb9f3a"
             ],
             [
              0.8888888888888888,
              "#fdca26"
             ],
             [
              1,
              "#f0f921"
             ]
            ],
            "type": "heatmapgl"
           }
          ],
          "histogram": [
           {
            "marker": {
             "pattern": {
              "fillmode": "overlay",
              "size": 10,
              "solidity": 0.2
             }
            },
            "type": "histogram"
           }
          ],
          "histogram2d": [
           {
            "colorbar": {
             "outlinewidth": 0,
             "ticks": ""
            },
            "colorscale": [
             [
              0,
              "#0d0887"
             ],
             [
              0.1111111111111111,
              "#46039f"
             ],
             [
              0.2222222222222222,
              "#7201a8"
             ],
             [
              0.3333333333333333,
              "#9c179e"
             ],
             [
              0.4444444444444444,
              "#bd3786"
             ],
             [
              0.5555555555555556,
              "#d8576b"
             ],
             [
              0.6666666666666666,
              "#ed7953"
             ],
             [
              0.7777777777777778,
              "#fb9f3a"
             ],
             [
              0.8888888888888888,
              "#fdca26"
             ],
             [
              1,
              "#f0f921"
             ]
            ],
            "type": "histogram2d"
           }
          ],
          "histogram2dcontour": [
           {
            "colorbar": {
             "outlinewidth": 0,
             "ticks": ""
            },
            "colorscale": [
             [
              0,
              "#0d0887"
             ],
             [
              0.1111111111111111,
              "#46039f"
             ],
             [
              0.2222222222222222,
              "#7201a8"
             ],
             [
              0.3333333333333333,
              "#9c179e"
             ],
             [
              0.4444444444444444,
              "#bd3786"
             ],
             [
              0.5555555555555556,
              "#d8576b"
             ],
             [
              0.6666666666666666,
              "#ed7953"
             ],
             [
              0.7777777777777778,
              "#fb9f3a"
             ],
             [
              0.8888888888888888,
              "#fdca26"
             ],
             [
              1,
              "#f0f921"
             ]
            ],
            "type": "histogram2dcontour"
           }
          ],
          "mesh3d": [
           {
            "colorbar": {
             "outlinewidth": 0,
             "ticks": ""
            },
            "type": "mesh3d"
           }
          ],
          "parcoords": [
           {
            "line": {
             "colorbar": {
              "outlinewidth": 0,
              "ticks": ""
             }
            },
            "type": "parcoords"
           }
          ],
          "pie": [
           {
            "automargin": true,
            "type": "pie"
           }
          ],
          "scatter": [
           {
            "fillpattern": {
             "fillmode": "overlay",
             "size": 10,
             "solidity": 0.2
            },
            "type": "scatter"
           }
          ],
          "scatter3d": [
           {
            "line": {
             "colorbar": {
              "outlinewidth": 0,
              "ticks": ""
             }
            },
            "marker": {
             "colorbar": {
              "outlinewidth": 0,
              "ticks": ""
             }
            },
            "type": "scatter3d"
           }
          ],
          "scattercarpet": [
           {
            "marker": {
             "colorbar": {
              "outlinewidth": 0,
              "ticks": ""
             }
            },
            "type": "scattercarpet"
           }
          ],
          "scattergeo": [
           {
            "marker": {
             "colorbar": {
              "outlinewidth": 0,
              "ticks": ""
             }
            },
            "type": "scattergeo"
           }
          ],
          "scattergl": [
           {
            "marker": {
             "colorbar": {
              "outlinewidth": 0,
              "ticks": ""
             }
            },
            "type": "scattergl"
           }
          ],
          "scattermapbox": [
           {
            "marker": {
             "colorbar": {
              "outlinewidth": 0,
              "ticks": ""
             }
            },
            "type": "scattermapbox"
           }
          ],
          "scatterpolar": [
           {
            "marker": {
             "colorbar": {
              "outlinewidth": 0,
              "ticks": ""
             }
            },
            "type": "scatterpolar"
           }
          ],
          "scatterpolargl": [
           {
            "marker": {
             "colorbar": {
              "outlinewidth": 0,
              "ticks": ""
             }
            },
            "type": "scatterpolargl"
           }
          ],
          "scatterternary": [
           {
            "marker": {
             "colorbar": {
              "outlinewidth": 0,
              "ticks": ""
             }
            },
            "type": "scatterternary"
           }
          ],
          "surface": [
           {
            "colorbar": {
             "outlinewidth": 0,
             "ticks": ""
            },
            "colorscale": [
             [
              0,
              "#0d0887"
             ],
             [
              0.1111111111111111,
              "#46039f"
             ],
             [
              0.2222222222222222,
              "#7201a8"
             ],
             [
              0.3333333333333333,
              "#9c179e"
             ],
             [
              0.4444444444444444,
              "#bd3786"
             ],
             [
              0.5555555555555556,
              "#d8576b"
             ],
             [
              0.6666666666666666,
              "#ed7953"
             ],
             [
              0.7777777777777778,
              "#fb9f3a"
             ],
             [
              0.8888888888888888,
              "#fdca26"
             ],
             [
              1,
              "#f0f921"
             ]
            ],
            "type": "surface"
           }
          ],
          "table": [
           {
            "cells": {
             "fill": {
              "color": "#EBF0F8"
             },
             "line": {
              "color": "white"
             }
            },
            "header": {
             "fill": {
              "color": "#C8D4E3"
             },
             "line": {
              "color": "white"
             }
            },
            "type": "table"
           }
          ]
         },
         "layout": {
          "annotationdefaults": {
           "arrowcolor": "#2a3f5f",
           "arrowhead": 0,
           "arrowwidth": 1
          },
          "autotypenumbers": "strict",
          "coloraxis": {
           "colorbar": {
            "outlinewidth": 0,
            "ticks": ""
           }
          },
          "colorscale": {
           "diverging": [
            [
             0,
             "#8e0152"
            ],
            [
             0.1,
             "#c51b7d"
            ],
            [
             0.2,
             "#de77ae"
            ],
            [
             0.3,
             "#f1b6da"
            ],
            [
             0.4,
             "#fde0ef"
            ],
            [
             0.5,
             "#f7f7f7"
            ],
            [
             0.6,
             "#e6f5d0"
            ],
            [
             0.7,
             "#b8e186"
            ],
            [
             0.8,
             "#7fbc41"
            ],
            [
             0.9,
             "#4d9221"
            ],
            [
             1,
             "#276419"
            ]
           ],
           "sequential": [
            [
             0,
             "#0d0887"
            ],
            [
             0.1111111111111111,
             "#46039f"
            ],
            [
             0.2222222222222222,
             "#7201a8"
            ],
            [
             0.3333333333333333,
             "#9c179e"
            ],
            [
             0.4444444444444444,
             "#bd3786"
            ],
            [
             0.5555555555555556,
             "#d8576b"
            ],
            [
             0.6666666666666666,
             "#ed7953"
            ],
            [
             0.7777777777777778,
             "#fb9f3a"
            ],
            [
             0.8888888888888888,
             "#fdca26"
            ],
            [
             1,
             "#f0f921"
            ]
           ],
           "sequentialminus": [
            [
             0,
             "#0d0887"
            ],
            [
             0.1111111111111111,
             "#46039f"
            ],
            [
             0.2222222222222222,
             "#7201a8"
            ],
            [
             0.3333333333333333,
             "#9c179e"
            ],
            [
             0.4444444444444444,
             "#bd3786"
            ],
            [
             0.5555555555555556,
             "#d8576b"
            ],
            [
             0.6666666666666666,
             "#ed7953"
            ],
            [
             0.7777777777777778,
             "#fb9f3a"
            ],
            [
             0.8888888888888888,
             "#fdca26"
            ],
            [
             1,
             "#f0f921"
            ]
           ]
          },
          "colorway": [
           "#636efa",
           "#EF553B",
           "#00cc96",
           "#ab63fa",
           "#FFA15A",
           "#19d3f3",
           "#FF6692",
           "#B6E880",
           "#FF97FF",
           "#FECB52"
          ],
          "font": {
           "color": "#2a3f5f"
          },
          "geo": {
           "bgcolor": "white",
           "lakecolor": "white",
           "landcolor": "#E5ECF6",
           "showlakes": true,
           "showland": true,
           "subunitcolor": "white"
          },
          "hoverlabel": {
           "align": "left"
          },
          "hovermode": "closest",
          "mapbox": {
           "style": "light"
          },
          "paper_bgcolor": "white",
          "plot_bgcolor": "#E5ECF6",
          "polar": {
           "angularaxis": {
            "gridcolor": "white",
            "linecolor": "white",
            "ticks": ""
           },
           "bgcolor": "#E5ECF6",
           "radialaxis": {
            "gridcolor": "white",
            "linecolor": "white",
            "ticks": ""
           }
          },
          "scene": {
           "xaxis": {
            "backgroundcolor": "#E5ECF6",
            "gridcolor": "white",
            "gridwidth": 2,
            "linecolor": "white",
            "showbackground": true,
            "ticks": "",
            "zerolinecolor": "white"
           },
           "yaxis": {
            "backgroundcolor": "#E5ECF6",
            "gridcolor": "white",
            "gridwidth": 2,
            "linecolor": "white",
            "showbackground": true,
            "ticks": "",
            "zerolinecolor": "white"
           },
           "zaxis": {
            "backgroundcolor": "#E5ECF6",
            "gridcolor": "white",
            "gridwidth": 2,
            "linecolor": "white",
            "showbackground": true,
            "ticks": "",
            "zerolinecolor": "white"
           }
          },
          "shapedefaults": {
           "line": {
            "color": "#2a3f5f"
           }
          },
          "ternary": {
           "aaxis": {
            "gridcolor": "white",
            "linecolor": "white",
            "ticks": ""
           },
           "baxis": {
            "gridcolor": "white",
            "linecolor": "white",
            "ticks": ""
           },
           "bgcolor": "#E5ECF6",
           "caxis": {
            "gridcolor": "white",
            "linecolor": "white",
            "ticks": ""
           }
          },
          "title": {
           "x": 0.05
          },
          "xaxis": {
           "automargin": true,
           "gridcolor": "white",
           "linecolor": "white",
           "ticks": "",
           "title": {
            "standoff": 15
           },
           "zerolinecolor": "white",
           "zerolinewidth": 2
          },
          "yaxis": {
           "automargin": true,
           "gridcolor": "white",
           "linecolor": "white",
           "ticks": "",
           "title": {
            "standoff": 15
           },
           "zerolinecolor": "white",
           "zerolinewidth": 2
          }
         }
        },
        "width": 600,
        "xaxis": {
         "anchor": "x",
         "exponentformat": "e",
         "linecolor": "black",
         "linewidth": 1,
         "mirror": false,
         "showexponent": "all",
         "showline": true,
         "side": "bottom",
         "ticks": "outside",
         "title": {
          "text": "0th"
         },
         "type": "linear",
         "zeroline": true
        },
        "yaxis": {
         "anchor": "y",
         "exponentformat": "e",
         "linecolor": "black",
         "linewidth": 1,
         "mirror": false,
         "showexponent": "all",
         "showline": true,
         "side": "left",
         "ticks": "outside",
         "title": {
          "text": "1st"
         },
         "type": "linear",
         "zeroline": true
        }
       }
      }
     },
     "metadata": {},
     "output_type": "display_data"
    }
   ],
   "source": [
    "## plotting point cloud through giotto-tda.\n",
    "from gtda.plotting import plot_point_cloud\n",
    "plot_point_cloud(point_cloud)"
   ]
  },
  {
   "cell_type": "code",
   "execution_count": null,
   "metadata": {},
   "outputs": [],
   "source": [
    "## Visualize Vietoris-Rips Complex\n",
    "\n",
    "from matplotlib.patches import Circle,Polygon\n",
    "\n",
    "euler_characteristic = []\n",
    "euler_characteristic_tuple = []\n",
    "\n",
    "for i in range(200):\n",
    "    v = len(point_cloud)\n",
    "    e = 0\n",
    "    f = 0\n",
    "\n",
    "    epsilon = i/10   # distance parameter\n",
    "    m = len(point_cloud)    # the number of points in given point cloud\n",
    "    adj_mat = np.zeros((m,m))\n",
    "\n",
    "    ## Assume that the metric for our point cloud is Euclidean distance.\n",
    "    def Euclidean_distance(x,y):\n",
    "        norm = np.dot(x-y,x-y)\n",
    "        return np.sqrt(norm)\n",
    "    \n",
    "    plt.figure(figsize=(20,9))\n",
    "    plt.subplot(1,2,1)\n",
    "    ## Step 1. For each point p, draw a circle with radius epsilon and center p\n",
    "    plt.plot(point_cloud[:,0], point_cloud[:,1], '.')\n",
    "    for i in range(0,len(point_cloud)):\n",
    "        plt.gca().add_patch(Circle(point_cloud[i], radius = epsilon, alpha = 0.3))\n",
    "        plt.annotate(f'{i+1}',(point_cloud[i]))\n",
    "\n",
    "\n",
    "    ## Step 2. If the distance between two points x and y is less than epsilon, connect two points with edge.\n",
    "    for x,i in zip(point_cloud,np.arange(m)):\n",
    "        for y,j in zip(point_cloud,np.arange(m)):\n",
    "            if 0 < Euclidean_distance(x,y) < epsilon:\n",
    "                plt.plot([x[0],y[0]],[x[1],y[1]],'-')\n",
    "                adj_mat[i,j] = 1\n",
    "                adj_mat[j,i] = 1\n",
    "                e += 1\n",
    "\n",
    "\n",
    "    ## Step 3. If three edges consist of a triangle, fill in the face of the triangle.\n",
    "    for i in range(0,m):\n",
    "        for j in range(0,m):\n",
    "            for k in range(0,m):\n",
    "                if (adj_mat[i,j] == 1) & (adj_mat[j,k] == 1) & (adj_mat[k,i] == 1):\n",
    "                    plt.gca().add_patch(Polygon((point_cloud[i],point_cloud[j],point_cloud[k]), facecolor = 'm'))\n",
    "                    f += 1\n",
    "\n",
    "    plt.title(f'Vietoris-Rips complex of point cloud for $\\epsilon$ = {epsilon}, v={v}, e={e//2}, f={f//6}, EC={v-(e//2)+(f//6)}', fontsize = 14)\n",
    "    euler_characteristic.append(v-(e//2)+(f//6))\n",
    "    euler_characteristic_tuple.append((v, v-(e//2), v-(e//2)+(f//6)))\n",
    "    plt.xlim(np.min(point_cloud)-epsilon,np.max(point_cloud)+epsilon)\n",
    "    plt.ylim(np.min(point_cloud)-epsilon,np.max(point_cloud)+epsilon)\n",
    "    plt.grid()\n",
    "    \n",
    "    plt.subplot(1,2,2)\n",
    "    plt.title('Euler Characteristic')\n",
    "    plt.scatter(range(len(euler_characteristic)), euler_characteristic)\n",
    "    plt.xlim([0, 210])\n",
    "    plt.ylim([-0.5,9.5])\n",
    "    plt.savefig('/Users/tuna200538/Desktop/청운고/3학년/동아리/TDA/test/total_fig/epsilon={}.png'.format(str(epsilon*10)))"
   ]
  },
  {
   "cell_type": "code",
   "execution_count": 4,
   "metadata": {},
   "outputs": [
    {
     "name": "stderr",
     "output_type": "stream",
     "text": [
      "OpenCV: FFMPEG: tag 0x58564944/'DIVX' is not supported with codec id 12 and format 'mp4 / MP4 (MPEG-4 Part 14)'\n",
      "OpenCV: FFMPEG: fallback to use tag 0x7634706d/'mp4v'\n"
     ]
    }
   ],
   "source": [
    "def img2mp4(paths, pathOut , fps =10 ) :\n",
    "    import cv2\n",
    "    frame_array = []\n",
    "    for idx , path in enumerate(paths) :\n",
    "        img = cv2.imread(path)\n",
    "        height, width, layers = img.shape\n",
    "        size = (width,height)\n",
    "        frame_array.append(img)\n",
    "    out = cv2.VideoWriter(pathOut,cv2.VideoWriter_fourcc(*'DIVX'), fps, size)\n",
    "    for i in range(len(frame_array)):\n",
    "        # writing to a image array\n",
    "        out.write(frame_array[i])\n",
    "    out.release()\n",
    "\n",
    "\n",
    "import os\n",
    "import re\n",
    "paths = sorted(os.listdir('/Users/tuna200538/Desktop/청운고/3학년/동아리/TDA/test/total_fig'), key=lambda s: int(re.search(r'\\d+', s).group()))\n",
    "paths = [os.path.join('/Users/tuna200538/Desktop/청운고/3학년/동아리/TDA/test/total_fig',path) for path in paths]\n",
    "img2mp4(paths ,'/Users/tuna200538/Desktop/청운고/3학년/동아리/TDA/test/final.mp4', fps=6)"
   ]
  },
  {
   "cell_type": "code",
   "execution_count": 5,
   "metadata": {},
   "outputs": [
    {
     "data": {
      "text/plain": [
       "Text(0.5, 1.0, 'Euler Characteristic')"
      ]
     },
     "execution_count": 5,
     "metadata": {},
     "output_type": "execute_result"
    },
    {
     "data": {
      "image/png": "[encoded data removed]",
      "text/plain": [
       "<Figure size 1500x600 with 1 Axes>"
      ]
     },
     "metadata": {},
     "output_type": "display_data"
    }
   ],
   "source": [
    "import matplotlib.pyplot as plt\n",
    "plt.figure(figsize=(15, 6))\n",
    "plt.subplot(1,2,1)\n",
    "plt.scatter(range(len(euler_characteristic)), euler_characteristic)\n",
    "plt.title('Euler Characteristic')\n"
   ]
  },
  {
   "cell_type": "code",
   "execution_count": 6,
   "metadata": {},
   "outputs": [],
   "source": [
    "import os\n",
    "from PIL import Image\n",
    "from IPython.display import Image as Img\n",
    "from IPython.display import display\n",
    "import re\n"
   ]
  },
  {
   "cell_type": "code",
   "execution_count": 7,
   "metadata": {},
   "outputs": [
    {
     "name": "stdout",
     "output_type": "stream",
     "text": [
      "['epsilon=0.0.png', 'epsilon=1.0.png', 'epsilon=2.0.png', 'epsilon=3.0.png', 'epsilon=4.0.png', 'epsilon=5.0.png', 'epsilon=6.0.png', 'epsilon=7.0.png', 'epsilon=8.0.png', 'epsilon=9.0.png', 'epsilon=10.0.png', 'epsilon=11.0.png', 'epsilon=12.0.png', 'epsilon=13.0.png', 'epsilon=14.0.png', 'epsilon=15.0.png', 'epsilon=16.0.png', 'epsilon=17.0.png', 'epsilon=18.0.png', 'epsilon=19.0.png', 'epsilon=20.0.png', 'epsilon=21.0.png', 'epsilon=22.0.png', 'epsilon=23.0.png', 'epsilon=24.0.png', 'epsilon=25.0.png', 'epsilon=26.0.png', 'epsilon=27.0.png', 'epsilon=28.0.png', 'epsilon=29.0.png', 'epsilon=30.0.png', 'epsilon=31.0.png', 'epsilon=32.0.png', 'epsilon=33.0.png', 'epsilon=34.0.png', 'epsilon=35.0.png', 'epsilon=36.0.png', 'epsilon=37.0.png', 'epsilon=38.0.png', 'epsilon=39.0.png', 'epsilon=40.0.png', 'epsilon=41.0.png', 'epsilon=42.0.png', 'epsilon=43.0.png', 'epsilon=44.0.png', 'epsilon=45.0.png', 'epsilon=46.0.png', 'epsilon=47.0.png', 'epsilon=48.0.png', 'epsilon=49.0.png', 'epsilon=50.0.png', 'epsilon=51.0.png', 'epsilon=52.0.png', 'epsilon=53.0.png', 'epsilon=54.0.png', 'epsilon=55.0.png', 'epsilon=56.0.png', 'epsilon=57.0.png', 'epsilon=58.0.png', 'epsilon=59.0.png', 'epsilon=60.0.png', 'epsilon=61.0.png', 'epsilon=62.0.png', 'epsilon=63.0.png', 'epsilon=64.0.png', 'epsilon=65.0.png', 'epsilon=66.0.png', 'epsilon=67.0.png', 'epsilon=68.0.png', 'epsilon=69.0.png', 'epsilon=70.0.png', 'epsilon=71.0.png', 'epsilon=72.0.png', 'epsilon=73.0.png', 'epsilon=74.0.png', 'epsilon=75.0.png', 'epsilon=76.0.png', 'epsilon=77.0.png', 'epsilon=78.0.png', 'epsilon=79.0.png', 'epsilon=80.0.png', 'epsilon=81.0.png', 'epsilon=82.0.png', 'epsilon=83.0.png', 'epsilon=84.0.png', 'epsilon=85.0.png', 'epsilon=86.0.png', 'epsilon=87.0.png', 'epsilon=88.0.png', 'epsilon=89.0.png', 'epsilon=90.0.png', 'epsilon=91.0.png', 'epsilon=92.0.png', 'epsilon=93.0.png', 'epsilon=94.0.png', 'epsilon=95.0.png', 'epsilon=96.0.png', 'epsilon=97.0.png', 'epsilon=98.0.png', 'epsilon=99.0.png', 'epsilon=100.0.png', 'epsilon=101.0.png', 'epsilon=102.0.png', 'epsilon=103.0.png', 'epsilon=104.0.png', 'epsilon=105.0.png', 'epsilon=106.0.png', 'epsilon=107.0.png', 'epsilon=108.0.png', 'epsilon=109.0.png', 'epsilon=110.0.png', 'epsilon=111.0.png', 'epsilon=112.0.png', 'epsilon=113.0.png', 'epsilon=114.0.png', 'epsilon=115.0.png', 'epsilon=116.0.png', 'epsilon=117.0.png', 'epsilon=118.0.png', 'epsilon=119.0.png', 'epsilon=120.0.png', 'epsilon=121.0.png', 'epsilon=122.0.png', 'epsilon=123.0.png', 'epsilon=124.0.png', 'epsilon=125.0.png', 'epsilon=126.0.png', 'epsilon=127.0.png', 'epsilon=128.0.png', 'epsilon=129.0.png', 'epsilon=130.0.png', 'epsilon=131.0.png', 'epsilon=132.0.png', 'epsilon=133.0.png', 'epsilon=134.0.png', 'epsilon=135.0.png', 'epsilon=136.0.png', 'epsilon=137.0.png', 'epsilon=138.0.png', 'epsilon=139.0.png', 'epsilon=140.0.png', 'epsilon=141.0.png', 'epsilon=142.0.png', 'epsilon=143.0.png', 'epsilon=144.0.png', 'epsilon=145.0.png', 'epsilon=146.0.png', 'epsilon=147.0.png', 'epsilon=148.0.png', 'epsilon=149.0.png', 'epsilon=150.0.png', 'epsilon=151.0.png', 'epsilon=152.0.png', 'epsilon=153.0.png', 'epsilon=154.0.png', 'epsilon=155.0.png', 'epsilon=156.0.png', 'epsilon=157.0.png', 'epsilon=158.0.png', 'epsilon=159.0.png', 'epsilon=160.0.png', 'epsilon=161.0.png', 'epsilon=162.0.png', 'epsilon=163.0.png', 'epsilon=164.0.png', 'epsilon=165.0.png', 'epsilon=166.0.png', 'epsilon=167.0.png', 'epsilon=168.0.png', 'epsilon=169.0.png', 'epsilon=170.0.png', 'epsilon=171.0.png', 'epsilon=172.0.png', 'epsilon=173.0.png', 'epsilon=174.0.png', 'epsilon=175.0.png', 'epsilon=176.0.png', 'epsilon=177.0.png', 'epsilon=178.0.png', 'epsilon=179.0.png', 'epsilon=180.0.png', 'epsilon=181.0.png', 'epsilon=182.0.png', 'epsilon=183.0.png', 'epsilon=184.0.png', 'epsilon=185.0.png', 'epsilon=186.0.png', 'epsilon=187.0.png', 'epsilon=188.0.png', 'epsilon=189.0.png', 'epsilon=190.0.png', 'epsilon=191.0.png', 'epsilon=192.0.png', 'epsilon=193.0.png', 'epsilon=194.0.png', 'epsilon=195.0.png', 'epsilon=196.0.png', 'epsilon=197.0.png', 'epsilon=198.0.png', 'epsilon=199.0.png']\n"
     ]
    }
   ],
   "source": [
    "def generate_gif(path):\n",
    "    img_list = os.listdir(path)\n",
    "    img_list = sorted(img_list, key=lambda s: int(re.search(r'\\d+', s).group()))\n",
    "    print(img_list)\n",
    "    img_list = [path + '/' + x for x in img_list]\n",
    "    images = [Image.open(x) for x in img_list]\n",
    "    \n",
    "    im = images[0]\n",
    "    im.save('/Users/tuna200538/Desktop/청운고/3학년/동아리/TDA/test/VR_figout.gif', save_all=True, append_images=images[1:],loop=0xff, duration=100)\n",
    "    # loop 반복 횟수\n",
    "    # duration 프레임 전환 속도 (500 = 0.5초)\n",
    "    return Img(url='out.gif')\n",
    "gif = generate_gif('/Users/tuna200538/Desktop/청운고/3학년/동아리/TDA/test/VR_fig')"
   ]
  },
  {
   "cell_type": "code",
   "execution_count": 8,
   "metadata": {},
   "outputs": [
    {
     "name": "stderr",
     "output_type": "stream",
     "text": [
      "OpenCV: FFMPEG: tag 0x58564944/'DIVX' is not supported with codec id 12 and format 'mp4 / MP4 (MPEG-4 Part 14)'\n",
      "OpenCV: FFMPEG: fallback to use tag 0x7634706d/'mp4v'\n"
     ]
    }
   ],
   "source": [
    "def img2mp4(paths, pathOut , fps =10 ) :\n",
    "    import cv2\n",
    "    frame_array = []\n",
    "    for idx , path in enumerate(paths) :\n",
    "        img = cv2.imread(path)\n",
    "        height, width, layers = img.shape\n",
    "        size = (width,height)\n",
    "        frame_array.append(img)\n",
    "    out = cv2.VideoWriter(pathOut,cv2.VideoWriter_fourcc(*'DIVX'), fps, size)\n",
    "    for i in range(len(frame_array)):\n",
    "        # writing to a image array\n",
    "        out.write(frame_array[i])\n",
    "    out.release()\n",
    "\n",
    "\n",
    "import os\n",
    "paths = sorted(os.listdir('/Users/tuna200538/Desktop/청운고/3학년/동아리/TDA/test/VR_fig'), key=lambda s: int(re.search(r'\\d+', s).group()))\n",
    "paths = [os.path.join('/Users/tuna200538/Desktop/청운고/3학년/동아리/TDA/test/VR_fig',path) for path in paths]\n",
    "img2mp4(paths ,'/Users/tuna200538/Desktop/청운고/3학년/동아리/TDA/test/out.mp4', fps=6)"
   ]
  },
  {
   "cell_type": "code",
   "execution_count": 9,
   "metadata": {},
   "outputs": [
    {
     "name": "stdout",
     "output_type": "stream",
     "text": [
      "[(8, 8, 8), (8, 8, 8), (8, 8, 8), (8, 8, 8), (8, 8, 8), (8, 8, 8), (8, 8, 8), (8, 8, 8), (8, 8, 8), (8, 8, 8), (8, 8, 8), (8, 8, 8), (8, 8, 8), (8, 8, 8), (8, 8, 8), (8, 8, 8), (8, 8, 8), (8, 8, 8), (8, 8, 8), (8, 8, 8), (8, 8, 8), (8, 8, 8), (8, 8, 8), (8, 8, 8), (8, 8, 8), (8, 8, 8), (8, 8, 8), (8, 8, 8), (8, 8, 8), (8, 8, 8), (8, 8, 8), (8, 8, 8), (8, 8, 8), (8, 8, 8), (8, 8, 8), (8, 8, 8), (8, 8, 8), (8, 8, 8), (8, 8, 8), (8, 8, 8), (8, 8, 8), (8, 8, 8), (8, 8, 8), (8, 8, 8), (8, 8, 8), (8, 8, 8), (8, 8, 8), (8, 8, 8), (8, 8, 8), (8, 8, 8), (8, 8, 8), (8, 7, 7), (8, 7, 7), (8, 7, 7), (8, 7, 7), (8, 7, 7), (8, 7, 7), (8, 7, 7), (8, 7, 7), (8, 7, 7), (8, 7, 7), (8, 5, 5), (8, 5, 5), (8, 5, 5), (8, 5, 5), (8, 5, 5), (8, 5, 5), (8, 5, 5), (8, 5, 5), (8, 5, 5), (8, 5, 5), (8, 5, 5), (8, 5, 5), (8, 5, 5), (8, 5, 5), (8, 5, 5), (8, 5, 5), (8, 3, 4), (8, 3, 4), (8, 3, 4), (8, 3, 4), (8, 2, 3), (8, 2, 3), (8, 2, 3), (8, 2, 3), (8, 2, 3), (8, 2, 3), (8, 2, 3), (8, 2, 3), (8, 2, 3), (8, 2, 3), (8, 1, 2), (8, 1, 2), (8, 1, 2), (8, 1, 2), (8, 1, 2), (8, 1, 2), (8, 1, 2), (8, 1, 2), (8, 1, 2), (8, 1, 2), (8, 0, 3), (8, -1, 2), (8, -2, 3), (8, -2, 3), (8, -2, 3), (8, -2, 3), (8, -2, 3), (8, -2, 3), (8, -2, 3), (8, -2, 3), (8, -2, 3), (8, -2, 3), (8, -2, 3), (8, -2, 3), (8, -2, 3), (8, -2, 3), (8, -2, 3), (8, -2, 3), (8, -2, 3), (8, -2, 3), (8, -2, 3), (8, -2, 3), (8, -2, 3), (8, -2, 3), (8, -2, 3), (8, -2, 3), (8, -2, 3), (8, -2, 3), (8, -2, 3), (8, -2, 3), (8, -3, 2), (8, -3, 2), (8, -3, 2), (8, -5, 2), (8, -5, 2), (8, -5, 2), (8, -5, 2), (8, -5, 2), (8, -5, 2), (8, -5, 2), (8, -5, 2), (8, -6, 2), (8, -7, 2), (8, -7, 2), (8, -7, 2), (8, -7, 2), (8, -7, 2), (8, -7, 2), (8, -7, 2), (8, -7, 2), (8, -7, 2), (8, -7, 2), (8, -8, 3), (8, -8, 3), (8, -8, 3), (8, -8, 3), (8, -8, 3), (8, -8, 3), (8, -8, 3), (8, -8, 3), (8, -8, 3), (8, -9, 5), (8, -9, 5), (8, -9, 5), (8, -9, 5), (8, -9, 5), (8, -9, 5), (8, -9, 5), (8, -9, 5), (8, -9, 5), (8, -10, 7), (8, -10, 7), (8, -10, 7), (8, -10, 7), (8, -10, 7), (8, -10, 7), (8, -10, 7), (8, -10, 7), (8, -10, 7), (8, -10, 7), (8, -10, 7), (8, -10, 7), (8, -10, 7), (8, -10, 7), (8, -10, 7), (8, -10, 7), (8, -11, 9), (8, -11, 9), (8, -11, 9), (8, -11, 9), (8, -11, 9), (8, -11, 9), (8, -11, 9), (8, -11, 9), (8, -11, 9), (8, -11, 9), (8, -11, 9), (8, -11, 9), (8, -11, 9)]\n"
     ]
    }
   ],
   "source": [
    "print(euler_characteristic_tuple)"
   ]
  },
  {
   "cell_type": "code",
   "execution_count": 10,
   "metadata": {},
   "outputs": [
    {
     "data": {
      "image/png": "[encoded data removed]",
      "text/plain": [
       "<Figure size 640x480 with 1 Axes>"
      ]
     },
     "metadata": {},
     "output_type": "display_data"
    }
   ],
   "source": [
    "from ripser import ripser\n",
    "from persim import plot_diagrams\n",
    "diagrams = ripser(point_cloud)['dgms']\n",
    "plot_diagrams(diagrams, show=True)"
   ]
  },
  {
   "cell_type": "code",
   "execution_count": 11,
   "metadata": {},
   "outputs": [
    {
     "data": {
      "text/plain": [
       "((30, 25, 3), (30,))"
      ]
     },
     "execution_count": 11,
     "metadata": {},
     "output_type": "execute_result"
    }
   ],
   "source": [
    "from data.generate_datasets import make_point_clouds\n",
    "\n",
    "point_clouds_basic, labels_basic = make_point_clouds(n_samples_per_shape=10, n_points=5, noise=0.5)\n",
    "point_clouds_basic.shape, labels_basic.shape"
   ]
  },
  {
   "cell_type": "code",
   "execution_count": 12,
   "metadata": {},
   "outputs": [
    {
     "data": {
      "application/vnd.plotly.v1+json": {
       "config": {
        "plotlyServerURL": "https://plot.ly"
       },
       "data": [
        {
         "marker": {
          "color": [
           0,
           1,
           2,
           3,
           4,
           5,
           6,
           7,
           8,
           9,
           10,
           11,
           12,
           13,
           14,
           15,
           16,
           17,
           18,
           19,
           20,
           21,
           22,
           23,
           24
          ],
          "colorscale": [
           [
            0,
            "#440154"
           ],
           [
            0.1111111111111111,
            "#482878"
           ],
           [
            0.2222222222222222,
            "#3e4989"
           ],
           [
            0.3333333333333333,
            "#31688e"
           ],
           [
            0.4444444444444444,
            "#26828e"
           ],
           [
            0.5555555555555556,
            "#1f9e89"
           ],
           [
            0.6666666666666666,
            "#35b779"
           ],
           [
            0.7777777777777778,
            "#6ece58"
           ],
           [
            0.8888888888888888,
            "#b5de2b"
           ],
           [
            1,
            "#fde725"
           ]
          ],
          "opacity": 0.8,
          "size": 4
         },
         "mode": "markers",
         "type": "scatter3d",
         "x": [
          -0.001028434463965,
          0.9138144359002021,
          0.8481098629892392,
          0.17691131267638696,
          -0.9649964170650159,
          -0.8470808807661772,
          -0.4237214957334758,
          0.460751424909428,
          1.0255897627470787,
          0.4498417933393376,
          -0.6897125743514879,
          -1.1382356064993868,
          -0.5337554711279981,
          0.41504545905206053,
          0.9203953594238581,
          0.7569273101951937,
          -0.3274993289195121,
          -0.7229835943154197,
          -0.9280484973831888,
          0.05848808081891946,
          0.8465525274507508,
          0.6701966654379876,
          -0.2237225500565805,
          -0.9634411262118574,
          -0.9951821831601718
         ],
         "y": [
          0.9607768334510824,
          0.48235138041163483,
          -0.552316377844059,
          -0.7913262994800849,
          -0.8290222022623135,
          0.4028493115737424,
          0.9340167370287003,
          0.7855469748536196,
          -0.3586242193779005,
          -1.0690455029971468,
          -0.9667980170569499,
          -0.2006813882375095,
          0.6561851842641164,
          0.9482852102568302,
          -0.05314628553477632,
          -0.5345611242170865,
          -0.7721446672380134,
          -0.2587361409402762,
          0.8581208398464204,
          0.8658499012674663,
          0.459557165103806,
          -0.77392263259293,
          -0.7624699264068068,
          -0.6523793118936366,
          0.6640610071066972
         ],
         "z": [
          0,
          0,
          0,
          0,
          0,
          0,
          0,
          0,
          0,
          0,
          0,
          0,
          0,
          0,
          0,
          0,
          0,
          0,
          0,
          0,
          0,
          0,
          0,
          0,
          0
         ]
        }
       ],
       "layout": {
        "scene": {
         "xaxis": {
          "exponentformat": "e",
          "showexponent": "all",
          "title": {
           "text": "0th"
          },
          "type": "linear"
         },
         "yaxis": {
          "exponentformat": "e",
          "showexponent": "all",
          "title": {
           "text": "1st"
          },
          "type": "linear"
         },
         "zaxis": {
          "exponentformat": "e",
          "showexponent": "all",
          "title": {
           "text": "2nd"
          },
          "type": "linear"
         }
        },
        "template": {
         "data": {
          "bar": [
           {
            "error_x": {
             "color": "#2a3f5f"
            },
            "error_y": {
             "color": "#2a3f5f"
            },
            "marker": {
             "line": {
              "color": "#E5ECF6",
              "width": 0.5
             },
             "pattern": {
              "fillmode": "overlay",
              "size": 10,
              "solidity": 0.2
             }
            },
            "type": "bar"
           }
          ],
          "barpolar": [
           {
            "marker": {
             "line": {
              "color": "#E5ECF6",
              "width": 0.5
             },
             "pattern": {
              "fillmode": "overlay",
              "size": 10,
              "solidity": 0.2
             }
            },
            "type": "barpolar"
           }
          ],
          "carpet": [
           {
            "aaxis": {
             "endlinecolor": "#2a3f5f",
             "gridcolor": "white",
             "linecolor": "white",
             "minorgridcolor": "white",
             "startlinecolor": "#2a3f5f"
            },
            "baxis": {
             "endlinecolor": "#2a3f5f",
             "gridcolor": "white",
             "linecolor": "white",
             "minorgridcolor": "white",
             "startlinecolor": "#2a3f5f"
            },
            "type": "carpet"
           }
          ],
          "choropleth": [
           {
            "colorbar": {
             "outlinewidth": 0,
             "ticks": ""
            },
            "type": "choropleth"
           }
          ],
          "contour": [
           {
            "colorbar": {
             "outlinewidth": 0,
             "ticks": ""
            },
            "colorscale": [
             [
              0,
              "#0d0887"
             ],
             [
              0.1111111111111111,
              "#46039f"
             ],
             [
              0.2222222222222222,
              "#7201a8"
             ],
             [
              0.3333333333333333,
              "#9c179e"
             ],
             [
              0.4444444444444444,
              "#bd3786"
             ],
             [
              0.5555555555555556,
              "#d8576b"
             ],
             [
              0.6666666666666666,
              "#ed7953"
             ],
             [
              0.7777777777777778,
              "#fb9f3a"
             ],
             [
              0.8888888888888888,
              "#fdca26"
             ],
             [
              1,
              "#f0f921"
             ]
            ],
            "type": "contour"
           }
          ],
          "contourcarpet": [
           {
            "colorbar": {
             "outlinewidth": 0,
             "ticks": ""
            },
            "type": "contourcarpet"
           }
          ],
          "heatmap": [
           {
            "colorbar": {
             "outlinewidth": 0,
             "ticks": ""
            },
            "colorscale": [
             [
              0,
              "#0d0887"
             ],
             [
              0.1111111111111111,
              "#46039f"
             ],
             [
              0.2222222222222222,
              "#7201a8"
             ],
             [
              0.3333333333333333,
              "#9c179e"
             ],
             [
              0.4444444444444444,
              "#bd3786"
             ],
             [
              0.5555555555555556,
              "#d8576b"
             ],
             [
              0.6666666666666666,
              "#ed7953"
             ],
             [
              0.7777777777777778,
              "#fb9f3a"
             ],
             [
              0.8888888888888888,
              "#fdca26"
             ],
             [
              1,
              "#f0f921"
             ]
            ],
            "type": "heatmap"
           }
          ],
          "heatmapgl": [
           {
            "colorbar": {
             "outlinewidth": 0,
             "ticks": ""
            },
            "colorscale": [
             [
              0,
              "#0d0887"
             ],
             [
              0.1111111111111111,
              "#46039f"
             ],
             [
              0.2222222222222222,
              "#7201a8"
             ],
             [
              0.3333333333333333,
              "#9c179e"
             ],
             [
              0.4444444444444444,
              "#bd3786"
             ],
             [
              0.5555555555555556,
              "#d8576b"
             ],
             [
              0.6666666666666666,
              "#ed7953"
             ],
             [
              0.7777777777777778,
              "#fb9f3a"
             ],
             [
              0.8888888888888888,
              "#fdca26"
             ],
             [
              1,
              "#f0f921"
             ]
            ],
            "type": "heatmapgl"
           }
          ],
          "histogram": [
           {
            "marker": {
             "pattern": {
              "fillmode": "overlay",
              "size": 10,
              "solidity": 0.2
             }
            },
            "type": "histogram"
           }
          ],
          "histogram2d": [
           {
            "colorbar": {
             "outlinewidth": 0,
             "ticks": ""
            },
            "colorscale": [
             [
              0,
              "#0d0887"
             ],
             [
              0.1111111111111111,
              "#46039f"
             ],
             [
              0.2222222222222222,
              "#7201a8"
             ],
             [
              0.3333333333333333,
              "#9c179e"
             ],
             [
              0.4444444444444444,
              "#bd3786"
             ],
             [
              0.5555555555555556,
              "#d8576b"
             ],
             [
              0.6666666666666666,
              "#ed7953"
             ],
             [
              0.7777777777777778,
              "#fb9f3a"
             ],
             [
              0.8888888888888888,
              "#fdca26"
             ],
             [
              1,
              "#f0f921"
             ]
            ],
            "type": "histogram2d"
           }
          ],
          "histogram2dcontour": [
           {
            "colorbar": {
             "outlinewidth": 0,
             "ticks": ""
            },
            "colorscale": [
             [
              0,
              "#0d0887"
             ],
             [
              0.1111111111111111,
              "#46039f"
             ],
             [
              0.2222222222222222,
              "#7201a8"
             ],
             [
              0.3333333333333333,
              "#9c179e"
             ],
             [
              0.4444444444444444,
              "#bd3786"
             ],
             [
              0.5555555555555556,
              "#d8576b"
             ],
             [
              0.6666666666666666,
              "#ed7953"
             ],
             [
              0.7777777777777778,
              "#fb9f3a"
             ],
             [
              0.8888888888888888,
              "#fdca26"
             ],
             [
              1,
              "#f0f921"
             ]
            ],
            "type": "histogram2dcontour"
           }
          ],
          "mesh3d": [
           {
            "colorbar": {
             "outlinewidth": 0,
             "ticks": ""
            },
            "type": "mesh3d"
           }
          ],
          "parcoords": [
           {
            "line": {
             "colorbar": {
              "outlinewidth": 0,
              "ticks": ""
             }
            },
            "type": "parcoords"
           }
          ],
          "pie": [
           {
            "automargin": true,
            "type": "pie"
           }
          ],
          "scatter": [
           {
            "fillpattern": {
             "fillmode": "overlay",
             "size": 10,
             "solidity": 0.2
            },
            "type": "scatter"
           }
          ],
          "scatter3d": [
           {
            "line": {
             "colorbar": {
              "outlinewidth": 0,
              "ticks": ""
             }
            },
            "marker": {
             "colorbar": {
              "outlinewidth": 0,
              "ticks": ""
             }
            },
            "type": "scatter3d"
           }
          ],
          "scattercarpet": [
           {
            "marker": {
             "colorbar": {
              "outlinewidth": 0,
              "ticks": ""
             }
            },
            "type": "scattercarpet"
           }
          ],
          "scattergeo": [
           {
            "marker": {
             "colorbar": {
              "outlinewidth": 0,
              "ticks": ""
             }
            },
            "type": "scattergeo"
           }
          ],
          "scattergl": [
           {
            "marker": {
             "colorbar": {
              "outlinewidth": 0,
              "ticks": ""
             }
            },
            "type": "scattergl"
           }
          ],
          "scattermapbox": [
           {
            "marker": {
             "colorbar": {
              "outlinewidth": 0,
              "ticks": ""
             }
            },
            "type": "scattermapbox"
           }
          ],
          "scatterpolar": [
           {
            "marker": {
             "colorbar": {
              "outlinewidth": 0,
              "ticks": ""
             }
            },
            "type": "scatterpolar"
           }
          ],
          "scatterpolargl": [
           {
            "marker": {
             "colorbar": {
              "outlinewidth": 0,
              "ticks": ""
             }
            },
            "type": "scatterpolargl"
           }
          ],
          "scatterternary": [
           {
            "marker": {
             "colorbar": {
              "outlinewidth": 0,
              "ticks": ""
             }
            },
            "type": "scatterternary"
           }
          ],
          "surface": [
           {
            "colorbar": {
             "outlinewidth": 0,
             "ticks": ""
            },
            "colorscale": [
             [
              0,
              "#0d0887"
             ],
             [
              0.1111111111111111,
              "#46039f"
             ],
             [
              0.2222222222222222,
              "#7201a8"
             ],
             [
              0.3333333333333333,
              "#9c179e"
             ],
             [
              0.4444444444444444,
              "#bd3786"
             ],
             [
              0.5555555555555556,
              "#d8576b"
             ],
             [
              0.6666666666666666,
              "#ed7953"
             ],
             [
              0.7777777777777778,
              "#fb9f3a"
             ],
             [
              0.8888888888888888,
              "#fdca26"
             ],
             [
              1,
              "#f0f921"
             ]
            ],
            "type": "surface"
           }
          ],
          "table": [
           {
            "cells": {
             "fill": {
              "color": "#EBF0F8"
             },
             "line": {
              "color": "white"
             }
            },
            "header": {
             "fill": {
              "color": "#C8D4E3"
             },
             "line": {
              "color": "white"
             }
            },
            "type": "table"
           }
          ]
         },
         "layout": {
          "annotationdefaults": {
           "arrowcolor": "#2a3f5f",
           "arrowhead": 0,
           "arrowwidth": 1
          },
          "autotypenumbers": "strict",
          "coloraxis": {
           "colorbar": {
            "outlinewidth": 0,
            "ticks": ""
           }
          },
          "colorscale": {
           "diverging": [
            [
             0,
             "#8e0152"
            ],
            [
             0.1,
             "#c51b7d"
            ],
            [
             0.2,
             "#de77ae"
            ],
            [
             0.3,
             "#f1b6da"
            ],
            [
             0.4,
             "#fde0ef"
            ],
            [
             0.5,
             "#f7f7f7"
            ],
            [
             0.6,
             "#e6f5d0"
            ],
            [
             0.7,
             "#b8e186"
            ],
            [
             0.8,
             "#7fbc41"
            ],
            [
             0.9,
             "#4d9221"
            ],
            [
             1,
             "#276419"
            ]
           ],
           "sequential": [
            [
             0,
             "#0d0887"
            ],
            [
             0.1111111111111111,
             "#46039f"
            ],
            [
             0.2222222222222222,
             "#7201a8"
            ],
            [
             0.3333333333333333,
             "#9c179e"
            ],
            [
             0.4444444444444444,
             "#bd3786"
            ],
            [
             0.5555555555555556,
             "#d8576b"
            ],
            [
             0.6666666666666666,
             "#ed7953"
            ],
            [
             0.7777777777777778,
             "#fb9f3a"
            ],
            [
             0.8888888888888888,
             "#fdca26"
            ],
            [
             1,
             "#f0f921"
            ]
           ],
           "sequentialminus": [
            [
             0,
             "#0d0887"
            ],
            [
             0.1111111111111111,
             "#46039f"
            ],
            [
             0.2222222222222222,
             "#7201a8"
            ],
            [
             0.3333333333333333,
             "#9c179e"
            ],
            [
             0.4444444444444444,
             "#bd3786"
            ],
            [
             0.5555555555555556,
             "#d8576b"
            ],
            [
             0.6666666666666666,
             "#ed7953"
            ],
            [
             0.7777777777777778,
             "#fb9f3a"
            ],
            [
             0.8888888888888888,
             "#fdca26"
            ],
            [
             1,
             "#f0f921"
            ]
           ]
          },
          "colorway": [
           "#636efa",
           "#EF553B",
           "#00cc96",
           "#ab63fa",
           "#FFA15A",
           "#19d3f3",
           "#FF6692",
           "#B6E880",
           "#FF97FF",
           "#FECB52"
          ],
          "font": {
           "color": "#2a3f5f"
          },
          "geo": {
           "bgcolor": "white",
           "lakecolor": "white",
           "landcolor": "#E5ECF6",
           "showlakes": true,
           "showland": true,
           "subunitcolor": "white"
          },
          "hoverlabel": {
           "align": "left"
          },
          "hovermode": "closest",
          "mapbox": {
           "style": "light"
          },
          "paper_bgcolor": "white",
          "plot_bgcolor": "#E5ECF6",
          "polar": {
           "angularaxis": {
            "gridcolor": "white",
            "linecolor": "white",
            "ticks": ""
           },
           "bgcolor": "#E5ECF6",
           "radialaxis": {
            "gridcolor": "white",
            "linecolor": "white",
            "ticks": ""
           }
          },
          "scene": {
           "xaxis": {
            "backgroundcolor": "#E5ECF6",
            "gridcolor": "white",
            "gridwidth": 2,
            "linecolor": "white",
            "showbackground": true,
            "ticks": "",
            "zerolinecolor": "white"
           },
           "yaxis": {
            "backgroundcolor": "#E5ECF6",
            "gridcolor": "white",
            "gridwidth": 2,
            "linecolor": "white",
            "showbackground": true,
            "ticks": "",
            "zerolinecolor": "white"
           },
           "zaxis": {
            "backgroundcolor": "#E5ECF6",
            "gridcolor": "white",
            "gridwidth": 2,
            "linecolor": "white",
            "showbackground": true,
            "ticks": "",
            "zerolinecolor": "white"
           }
          },
          "shapedefaults": {
           "line": {
            "color": "#2a3f5f"
           }
          },
          "ternary": {
           "aaxis": {
            "gridcolor": "white",
            "linecolor": "white",
            "ticks": ""
           },
           "baxis": {
            "gridcolor": "white",
            "linecolor": "white",
            "ticks": ""
           },
           "bgcolor": "#E5ECF6",
           "caxis": {
            "gridcolor": "white",
            "linecolor": "white",
            "ticks": ""
           }
          },
          "title": {
           "x": 0.05
          },
          "xaxis": {
           "automargin": true,
           "gridcolor": "white",
           "linecolor": "white",
           "ticks": "",
           "title": {
            "standoff": 15
           },
           "zerolinecolor": "white",
           "zerolinewidth": 2
          },
          "yaxis": {
           "automargin": true,
           "gridcolor": "white",
           "linecolor": "white",
           "ticks": "",
           "title": {
            "standoff": 15
           },
           "zerolinecolor": "white",
           "zerolinewidth": 2
          }
         }
        }
       }
      }
     },
     "metadata": {},
     "output_type": "display_data"
    }
   ],
   "source": [
    "from gtda.plotting import plot_point_cloud\n",
    "\n",
    "plot_point_cloud(point_clouds_basic[0])"
   ]
  },
  {
   "cell_type": "code",
   "execution_count": 13,
   "metadata": {},
   "outputs": [
    {
     "data": {
      "image/png": "[encoded data removed]",
      "text/plain": [
       "<Figure size 640x480 with 1 Axes>"
      ]
     },
     "metadata": {},
     "output_type": "display_data"
    }
   ],
   "source": [
    "from ripser import ripser\n",
    "from persim import plot_diagrams\n",
    "diagrams = ripser(point_clouds_basic[0])['dgms']\n",
    "plot_diagrams(diagrams, show=True)"
   ]
  },
  {
   "cell_type": "code",
   "execution_count": 14,
   "metadata": {},
   "outputs": [],
   "source": [
    "point_cloud = point_clouds_basic[0][:,:2]"
   ]
  },
  {
   "cell_type": "code",
   "execution_count": null,
   "metadata": {},
   "outputs": [],
   "source": [
    "## Visualize Vietoris-Rips Complex\n",
    "\n",
    "from matplotlib.patches import Circle,Polygon\n",
    "from tqdm.notebook import tqdm\n",
    "import numpy as np\n",
    "import matplotlib.pyplot as plt\n",
    "\n",
    "euler_characteristic = []\n",
    "euler_characteristic_tuple = []\n",
    "\n",
    "for _ in tqdm(range(100)):\n",
    "    v = len(point_cloud)\n",
    "    e = 0\n",
    "    f = 0\n",
    "\n",
    "    epsilon = _/100   # distance parameter\n",
    "    m = len(point_cloud)    # the number of points in given point cloud\n",
    "    adj_mat = np.zeros((m,m))\n",
    "\n",
    "    ## Assume that the metric for our point cloud is Euclidean distance.\n",
    "    def Euclidean_distance(x,y):\n",
    "        norm = np.dot(x-y,x-y)\n",
    "        return np.sqrt(norm)\n",
    "    \n",
    "    plt.figure(figsize=(20,9))\n",
    "    plt.subplot(1,2,1)\n",
    "    ## Step 1. For each point p, draw a circle with radius epsilon and center p\n",
    "    plt.plot(point_cloud[:,0], point_cloud[:,1], '.')\n",
    "    for i in range(0,len(point_cloud)):\n",
    "        plt.gca().add_patch(Circle(point_cloud[i], radius = epsilon, alpha = 0.3))\n",
    "        plt.annotate(f'{i+1}',(point_cloud[i]))\n",
    "\n",
    "\n",
    "    ## Step 2. If the distance between two points x and y is less than epsilon, connect two points with edge.\n",
    "    for x,i in zip(point_cloud,np.arange(m)):\n",
    "        for y,j in zip(point_cloud,np.arange(m)):\n",
    "            if 0 < Euclidean_distance(x,y) < epsilon:\n",
    "                plt.plot([x[0],y[0]],[x[1],y[1]],'-')\n",
    "                adj_mat[i,j] = 1\n",
    "                adj_mat[j,i] = 1\n",
    "                e += 1\n",
    "\n",
    "\n",
    "    ## Step 3. If three edges consist of a triangle, fill in the face of the triangle.\n",
    "    for i in range(0,m):\n",
    "        for j in range(0,m):\n",
    "            for k in range(0,m):\n",
    "                if (adj_mat[i,j] == 1) & (adj_mat[j,k] == 1) & (adj_mat[k,i] == 1):\n",
    "                    plt.gca().add_patch(Polygon((point_cloud[i],point_cloud[j],point_cloud[k]), facecolor = 'm'))\n",
    "                    f += 1\n",
    "\n",
    "    plt.title(f'Vietoris-Rips complex of point cloud for $\\epsilon$ = {epsilon}, v={v}, e={e//2}, f={f//6}, EC={v-(e//2)+(f//6)}', fontsize = 14)\n",
    "    euler_characteristic.append(v-(e//2)+(f//6))\n",
    "    euler_characteristic_tuple.append((v, v-(e//2), v-(e//2)+(f//6)))\n",
    "    plt.xlim(np.min(point_cloud)-epsilon,np.max(point_cloud)+epsilon)\n",
    "    plt.ylim(np.min(point_cloud)-epsilon,np.max(point_cloud)+epsilon)\n",
    "    plt.grid()\n",
    "    \n",
    "    plt.subplot(1,2,2)\n",
    "    plt.title('Euler Characteristic')\n",
    "    plt.scatter(range(len(euler_characteristic)), euler_characteristic)\n",
    "    plt.savefig('/Users/tuna200538/Desktop/청운고/3학년/동아리/TDA/test/hole_fig/epsilon={}.png'.format(_))\n",
    "    plt.show()"
   ]
  },
  {
   "cell_type": "code",
   "execution_count": 16,
   "metadata": {},
   "outputs": [
    {
     "name": "stderr",
     "output_type": "stream",
     "text": [
      "OpenCV: FFMPEG: tag 0x58564944/'DIVX' is not supported with codec id 12 and format 'mp4 / MP4 (MPEG-4 Part 14)'\n",
      "OpenCV: FFMPEG: fallback to use tag 0x7634706d/'mp4v'\n"
     ]
    }
   ],
   "source": [
    "def img2mp4(paths, pathOut , fps =10 ) :\n",
    "    import cv2\n",
    "    frame_array = []\n",
    "    for idx , path in enumerate(paths) :\n",
    "        img = cv2.imread(path)\n",
    "        height, width, layers = img.shape\n",
    "        size = (width,height)\n",
    "        frame_array.append(img)\n",
    "    out = cv2.VideoWriter(pathOut,cv2.VideoWriter_fourcc(*'DIVX'), fps, size)\n",
    "    for i in range(len(frame_array)):\n",
    "        # writing to a image array\n",
    "        out.write(frame_array[i])\n",
    "    out.release()\n",
    "\n",
    "\n",
    "import os\n",
    "import re\n",
    "paths = sorted(os.listdir('/Users/tuna200538/Desktop/청운고/3학년/동아리/TDA/test/hole_fig'), key=lambda s: int(re.search(r'\\d+', s).group()))\n",
    "paths = [os.path.join('/Users/tuna200538/Desktop/청운고/3학년/동아리/TDA/test/hole_fig',path) for path in paths]\n",
    "img2mp4(paths ,'/Users/tuna200538/Desktop/청운고/3학년/동아리/TDA/test/hole.mp4', fps=6)"
   ]
  },
  {
   "cell_type": "code",
   "execution_count": 28,
   "metadata": {},
   "outputs": [
    {
     "data": {
      "image/png": "[encoded data removed]",
      "text/plain": [
       "<Figure size 1500x900 with 1 Axes>"
      ]
     },
     "metadata": {},
     "output_type": "display_data"
    }
   ],
   "source": [
    "plt.figure(figsize=[15, 9])\n",
    "for i in range(len(euler_characteristic)-1):\n",
    "    if euler_characteristic_tuple[i][1] != euler_characteristic_tuple[i+1][1]:\n",
    "        plt.axvline(x=(2*i+1)/2, color='b')\n",
    "for i in range(len(euler_characteristic)-1):\n",
    "    if euler_characteristic[i] != euler_characteristic[i+1]:\n",
    "        plt.axvline(x=(2*i+1)/2, color='r')\n",
    "plt.scatter(range(len(euler_characteristic)), euler_characteristic)\n",
    "plt.show()"
   ]
  },
  {
   "cell_type": "code",
   "execution_count": null,
   "metadata": {},
   "outputs": [],
   "source": []
  }
 ],
 "metadata": {
  "kernelspec": {
   "display_name": "base",
   "language": "python",
   "name": "python3"
  },
  "language_info": {
   "codemirror_mode": {
    "name": "ipython",
    "version": 3
   },
   "file_extension": ".py",
   "mimetype": "text/x-python",
   "name": "python",
   "nbconvert_exporter": "python",
   "pygments_lexer": "ipython3",
   "version": "3.9.12"
  },
  "orig_nbformat": 4
 },
 "nbformat": 4,
 "nbformat_minor": 2
}
